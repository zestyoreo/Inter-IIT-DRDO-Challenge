{
 "cells": [
  {
   "cell_type": "code",
   "execution_count": 1,
   "id": "00f59503-2a36-446f-ae87-38cf8886bad5",
   "metadata": {},
   "outputs": [],
   "source": [
    "import numpy as np"
   ]
  },
  {
   "cell_type": "code",
   "execution_count": 6,
   "id": "c1f3b4a8-a660-4870-8321-3695e17059da",
   "metadata": {},
   "outputs": [],
   "source": [
    "i = 8\n",
    "d = np.load('depth_camera_image'+str(8)+'.npy', allow_pickle=True)"
   ]
  },
  {
   "cell_type": "code",
   "execution_count": 7,
   "id": "ba3db4d2-4b2f-4bbe-bfc1-4822a16f160c",
   "metadata": {},
   "outputs": [
    {
     "data": {
      "text/plain": [
       "18.474186"
      ]
     },
     "execution_count": 7,
     "metadata": {},
     "output_type": "execute_result"
    }
   ],
   "source": [
    "d.max()"
   ]
  },
  {
   "cell_type": "code",
   "execution_count": 8,
   "id": "150a63da-4744-4a8d-b309-981bf05f787a",
   "metadata": {},
   "outputs": [
    {
     "data": {
      "text/plain": [
       "(480, 640)"
      ]
     },
     "execution_count": 8,
     "metadata": {},
     "output_type": "execute_result"
    }
   ],
   "source": [
    "d.shape"
   ]
  },
  {
   "cell_type": "code",
   "execution_count": 9,
   "id": "9b15a1d7-61c6-4269-9bd0-b5346d69caf4",
   "metadata": {},
   "outputs": [
    {
     "data": {
      "text/plain": [
       "array([[10.80581  , 10.808185 , 10.81056  , ..., 12.339915 , 12.342488 ,\n",
       "        12.345062 ],\n",
       "       [10.80497  , 10.807344 , 10.80972  , ..., 12.339018 , 12.34159  ,\n",
       "        12.344164 ],\n",
       "       [10.804131 , 10.806504 , 10.808879 , ..., 12.3381195, 12.3406925,\n",
       "        12.343266 ],\n",
       "       ...,\n",
       "       [10.41435  , 10.416583 , 10.418818 , ..., 18.387217 , 18.404444 ,\n",
       "        18.421701 ],\n",
       "       [10.413534 , 10.415768 , 10.418003 , ..., 18.413324 , 18.4306   ,\n",
       "        18.447906 ],\n",
       "       [10.412719 , 10.414952 , 10.417188 , ..., 18.439507 , 18.45683  ,\n",
       "        18.474186 ]], dtype=float32)"
      ]
     },
     "execution_count": 9,
     "metadata": {},
     "output_type": "execute_result"
    }
   ],
   "source": [
    "d"
   ]
  },
  {
   "cell_type": "code",
   "execution_count": null,
   "id": "09fea586-6742-44cc-90b5-a22003051d30",
   "metadata": {},
   "outputs": [],
   "source": []
  }
 ],
 "metadata": {
  "kernelspec": {
   "display_name": "Python 3",
   "language": "python",
   "name": "python3"
  },
  "language_info": {
   "codemirror_mode": {
    "name": "ipython",
    "version": 3
   },
   "file_extension": ".py",
   "mimetype": "text/x-python",
   "name": "python",
   "nbconvert_exporter": "python",
   "pygments_lexer": "ipython3",
   "version": "3.6.9"
  }
 },
 "nbformat": 4,
 "nbformat_minor": 5
}
