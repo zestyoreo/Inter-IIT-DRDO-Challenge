{
  "nbformat": 4,
  "nbformat_minor": 0,
  "metadata": {
    "colab": {
      "name": "UGV_Theta_and Position_estimation_Contour_only.ipynb",
      "provenance": [],
      "collapsed_sections": []
    },
    "kernelspec": {
      "name": "python3",
      "display_name": "Python 3"
    },
    "language_info": {
      "name": "python"
    }
  },
  "cells": [
    {
      "cell_type": "code",
      "execution_count": 11,
      "metadata": {
        "id": "QQpYXw9imEoK"
      },
      "outputs": [],
      "source": [
        "import numpy as np\n",
        "from matplotlib.pyplot import imshow\n",
        "import matplotlib.pyplot as plt\n",
        "import cv2\n",
        "import math\n",
        "from google.colab.patches import cv2_imshow"
      ]
    },
    {
      "cell_type": "code",
      "source": [
        "from google.colab import drive\n",
        "drive.mount('/content/drive')"
      ],
      "metadata": {
        "colab": {
          "base_uri": "https://localhost:8080/"
        },
        "id": "Y_gjTwvBxCsT",
        "outputId": "297c4015-3eec-46dc-f244-1d774f6749fd"
      },
      "execution_count": 2,
      "outputs": [
        {
          "output_type": "stream",
          "name": "stdout",
          "text": [
            "Mounted at /content/drive\n"
          ]
        }
      ]
    },
    {
      "cell_type": "code",
      "source": [
        "def highpass(img, sigma):\n",
        "    return img - cv2.GaussianBlur(img, (0,0), sigma) + 127"
      ],
      "metadata": {
        "id": "lTBICL2HmMZB"
      },
      "execution_count": 3,
      "outputs": []
    },
    {
      "cell_type": "markdown",
      "source": [
        "#Contour on RGB"
      ],
      "metadata": {
        "id": "xpzjvFTjY5yA"
      }
    },
    {
      "cell_type": "code",
      "source": [
        "n = 550"
      ],
      "metadata": {
        "id": "wAhHP7u14aXE"
      },
      "execution_count": 4,
      "outputs": []
    },
    {
      "cell_type": "code",
      "source": [
        "#RGB image from Drone Cam\n",
        "filename = \"/content/drive/MyDrive/rgb_car_22/\"+str(n)+\"rgb_data.png\"\n",
        "img = cv2.imread(filename)\n",
        "cv2_imshow(img)"
      ],
      "metadata": {
        "colab": {
          "base_uri": "https://localhost:8080/",
          "height": 497
        },
        "id": "j8g36iBCZK17",
        "outputId": "4666240a-0da9-428d-f736-e6a142e74dde"
      },
      "execution_count": 13,
      "outputs": [
        {
          "output_type": "display_data",
          "data": {
            "text/plain": [
              "<PIL.Image.Image image mode=RGB size=640x480 at 0x7F4C602F3A10>"
            ],
            "image/png": "[encoded data removed]"
          },
          "metadata": {}
        }
      ]
    },
    {
      "cell_type": "code",
      "source": [
        "#Edge detection using Canny\n",
        "aperture_size = 5\n",
        "img = np.uint8(img)\n",
        "edges = cv2.Canny(img,1,150,apertureSize=aperture_size)\n",
        "img = highpass(edges,3)\n",
        "print(img.shape)\n",
        "cv2_imshow(img)"
      ],
      "metadata": {
        "colab": {
          "base_uri": "https://localhost:8080/",
          "height": 515
        },
        "id": "lWUK0VndZrqJ",
        "outputId": "f2a64287-eea1-4cab-f6a8-3fded8b27a2c"
      },
      "execution_count": 14,
      "outputs": [
        {
          "output_type": "stream",
          "name": "stdout",
          "text": [
            "(480, 640)\n"
          ]
        },
        {
          "output_type": "display_data",
          "data": {
            "text/plain": [
              "<PIL.Image.Image image mode=L size=640x480 at 0x7F4C602E6290>"
            ],
            "image/png": "[encoded data removed]"
          },
          "metadata": {}
        }
      ]
    },
    {
      "cell_type": "code",
      "source": [
        "def translateRotation(rotation, width, height):\n",
        "    if (width < height):\n",
        "        rotation = -1 * (rotation - 90)\n",
        "    if (rotation > 90):\n",
        "        rotation = -1 * (rotation - 180)\n",
        "    rotation *= -1\n",
        "    return round(rotation)"
      ],
      "metadata": {
        "id": "ln58JBHcZUa1"
      },
      "execution_count": 18,
      "outputs": []
    },
    {
      "cell_type": "code",
      "source": [
        "#Bounding box and centre of car\n",
        "gray = img.copy()\n",
        "thresh = cv2.adaptiveThreshold(gray, 255, cv2.ADAPTIVE_THRESH_GAUSSIAN_C,\n",
        "                        cv2.THRESH_BINARY_INV, 51, 2)\n",
        "\n",
        "cntrs, hierarchy = cv2.findContours(thresh, cv2.RETR_LIST, cv2.CHAIN_APPROX_SIMPLE)\n",
        "\n",
        "#uncomment below line to view the contours detected\n",
        "#cv2.drawContours(img, cntrs, -1, (0, 0, 255), thickness=3)\n",
        "\n",
        "cntrs = sorted(cntrs, key=lambda x: cv2.contourArea(x), reverse=True)\n",
        "rotrect = cv2.minAreaRect(cntrs[0])\n",
        "box = cv2.boxPoints(rotrect)\n",
        "box = np.int0(box)\n",
        "print(\"Edge points of the bounding box:\",box)\n",
        "print(rotrect)\n",
        "angle = rotrect[-1]\n",
        "width = rotrect[1][0]\n",
        "height = rotrect[1][1]\n",
        "angle = translateRotation(angle, width, height)\n",
        "\n",
        "result = img.copy()\n",
        "cv2.drawContours(result,[box],0,(0,0,255),2) #bbox of the car\n",
        "\n",
        "#centre of car\n",
        "cX = (box[0][0]+box[2][0])/2    \n",
        "cY = (box[0][1]+box[2][1])/2\n",
        "cX = math.floor(cX)\n",
        "cY = math.floor(cY)\n",
        "# cX2 = (box[2][0]+box[3][0])/2    \n",
        "# cY2 = (box[2][1]+box[3][1])/2\n",
        "# cX2 = math.floor(cX2)\n",
        "# cY2 = math.floor(cY2)\n",
        "d = 100\n",
        "cX2 = cX - d*math.cos(angle)\n",
        "cY2 = cY - d*math.sin(angle)\n",
        "cX2 = math.floor(cX2)\n",
        "cY2 = math.floor(cY2)\n",
        "cv2.circle(result, (cX, cY), 7, (255, 0, 0), -1) #centre of the car displayed as white dot\n",
        "cv2.arrowedLine(result, (cX, cY), (cX2, cY2), (255, 0, 0), 3)\n",
        "cv2_imshow(result)"
      ],
      "metadata": {
        "colab": {
          "base_uri": "https://localhost:8080/",
          "height": 586
        },
        "id": "EK3dYtLgY5JX",
        "outputId": "b15b0025-85d8-489f-8422-89b99dbed4d1"
      },
      "execution_count": 21,
      "outputs": [
        {
          "output_type": "stream",
          "name": "stdout",
          "text": [
            "Edge points of the bounding box: [[ 57 368]\n",
            " [-16 343]\n",
            " [ 34 190]\n",
            " [108 215]]\n",
            "((46.06658172607422, 279.3887634277344), (161.36329650878906, 78.36229705810547), -71.36541748046875)\n"
          ]
        },
        {
          "output_type": "display_data",
          "data": {
            "text/plain": [
              "<PIL.Image.Image image mode=L size=640x480 at 0x7F4C605407D0>"
            ],
            "image/png": "[encoded data removed]"
          },
          "metadata": {}
        }
      ]
    },
    {
      "cell_type": "code",
      "source": [
        ""
      ],
      "metadata": {
        "id": "sQHkY_fT8Dxz"
      },
      "execution_count": null,
      "outputs": []
    }
  ]
}